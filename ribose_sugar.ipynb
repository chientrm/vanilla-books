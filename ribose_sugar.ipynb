{
 "cells": [
  {
   "cell_type": "code",
   "execution_count": null,
   "metadata": {},
   "outputs": [],
   "source": [
    "from rdkit import Chem\n",
    "from rdkit.Chem import Draw\n",
    "import py3Dmol\n",
    "from rdkit.Chem import AllChem"
   ]
  },
  {
   "cell_type": "code",
   "execution_count": null,
   "metadata": {},
   "outputs": [],
   "source": [
    "\n",
    "# Define the Ribose molecule using SMILES notation\n",
    "ribose_smiles = 'C(C1C(C(C(O1)O)O)O)O'\n",
    "ribose_molecule = Chem.MolFromSmiles(ribose_smiles)\n",
    "\n",
    "# Draw the Ribose molecule\n",
    "Draw.MolToImage(ribose_molecule)"
   ]
  },
  {
   "cell_type": "code",
   "execution_count": null,
   "metadata": {},
   "outputs": [],
   "source": [
    "# Generate 3D coordinates for the molecule\n",
    "AllChem.EmbedMolecule(ribose_molecule)\n",
    "AllChem.MMFFOptimizeMolecule(ribose_molecule)\n",
    "\n",
    "# Convert the molecule to a 3D viewer\n",
    "mb = Chem.MolToMolBlock(ribose_molecule)\n",
    "viewer = py3Dmol.view(width=400, height=400)\n",
    "viewer.addModel(mb, 'mol')\n",
    "viewer.setStyle({'sphere': {}})\n",
    "viewer.zoomTo()\n",
    "viewer.show()"
   ]
  },
  {
   "cell_type": "code",
   "execution_count": null,
   "metadata": {},
   "outputs": [],
   "source": [
    "# Define the PDB ID for the major vault protein\n",
    "pdb_id = '2ZUO'\n",
    "\n",
    "# Create a 3D viewer for the major vault protein\n",
    "vault_viewer = py3Dmol.view(query='pdb:' + pdb_id, width=800, height=600)\n",
    "vault_viewer.setStyle({'cartoon': {'color': 'spectrum'}})\n",
    "vault_viewer.zoomTo()\n",
    "vault_viewer.show()"
   ]
  },
  {
   "cell_type": "code",
   "execution_count": null,
   "metadata": {},
   "outputs": [],
   "source": [
    "# Define the PDB ID for H5 Hemagglutinin\n",
    "h5_hemagglutinin_pdb_id = '1RVX'\n",
    "\n",
    "# Create a 3D viewer for H5 Hemagglutinin\n",
    "h5_hemagglutinin_viewer = py3Dmol.view(query='pdb:' + h5_hemagglutinin_pdb_id, width=800, height=600)\n",
    "h5_hemagglutinin_viewer.setStyle({'cartoon': {'color': 'spectrum'}})\n",
    "h5_hemagglutinin_viewer.zoomTo()\n",
    "h5_hemagglutinin_viewer.show()"
   ]
  },
  {
   "cell_type": "code",
   "execution_count": 19,
   "metadata": {},
   "outputs": [
    {
     "data": {
      "application/3dmoljs_load.v0": "<div id=\"3dmolviewer_17397846346598585\"  style=\"position: relative; width: 800px; height: 600px;\">\n        <p id=\"3dmolwarning_17397846346598585\" style=\"background-color:#ffcccc;color:black\">3Dmol.js failed to load for some reason.  Please check your browser console for error messages.<br></p>\n        </div>\n<script>\n\nvar loadScriptAsync = function(uri){\n  return new Promise((resolve, reject) => {\n    //this is to ignore the existence of requirejs amd\n    var savedexports, savedmodule;\n    if (typeof exports !== 'undefined') savedexports = exports;\n    else exports = {}\n    if (typeof module !== 'undefined') savedmodule = module;\n    else module = {}\n\n    var tag = document.createElement('script');\n    tag.src = uri;\n    tag.async = true;\n    tag.onload = () => {\n        exports = savedexports;\n        module = savedmodule;\n        resolve();\n    };\n  var firstScriptTag = document.getElementsByTagName('script')[0];\n  firstScriptTag.parentNode.insertBefore(tag, firstScriptTag);\n});\n};\n\nif(typeof $3Dmolpromise === 'undefined') {\n$3Dmolpromise = null;\n  $3Dmolpromise = loadScriptAsync('https://cdnjs.cloudflare.com/ajax/libs/3Dmol/2.4.2/3Dmol-min.js');\n}\n\nvar viewer_17397846346598585 = null;\nvar warn = document.getElementById(\"3dmolwarning_17397846346598585\");\nif(warn) {\n    warn.parentNode.removeChild(warn);\n}\n$3Dmolpromise.then(function() {\nviewer_17397846346598585 = $3Dmol.createViewer(document.getElementById(\"3dmolviewer_17397846346598585\"),{backgroundColor:\"white\"});\n$3Dmol.download(\"pdb:3J3Q\", viewer_17397846346598585, {}, function() {\nviewer_17397846346598585.zoomTo();\n\tviewer_17397846346598585.setStyle({\"cartoon\": {\"color\": \"spectrum\"}});\n\tviewer_17397846346598585.zoomTo();\nviewer_17397846346598585.render();\n})\n});\n</script>",
      "text/html": [
       "<div id=\"3dmolviewer_17397846346598585\"  style=\"position: relative; width: 800px; height: 600px;\">\n",
       "        <p id=\"3dmolwarning_17397846346598585\" style=\"background-color:#ffcccc;color:black\">3Dmol.js failed to load for some reason.  Please check your browser console for error messages.<br></p>\n",
       "        </div>\n",
       "<script>\n",
       "\n",
       "var loadScriptAsync = function(uri){\n",
       "  return new Promise((resolve, reject) => {\n",
       "    //this is to ignore the existence of requirejs amd\n",
       "    var savedexports, savedmodule;\n",
       "    if (typeof exports !== 'undefined') savedexports = exports;\n",
       "    else exports = {}\n",
       "    if (typeof module !== 'undefined') savedmodule = module;\n",
       "    else module = {}\n",
       "\n",
       "    var tag = document.createElement('script');\n",
       "    tag.src = uri;\n",
       "    tag.async = true;\n",
       "    tag.onload = () => {\n",
       "        exports = savedexports;\n",
       "        module = savedmodule;\n",
       "        resolve();\n",
       "    };\n",
       "  var firstScriptTag = document.getElementsByTagName('script')[0];\n",
       "  firstScriptTag.parentNode.insertBefore(tag, firstScriptTag);\n",
       "});\n",
       "};\n",
       "\n",
       "if(typeof $3Dmolpromise === 'undefined') {\n",
       "$3Dmolpromise = null;\n",
       "  $3Dmolpromise = loadScriptAsync('https://cdnjs.cloudflare.com/ajax/libs/3Dmol/2.4.2/3Dmol-min.js');\n",
       "}\n",
       "\n",
       "var viewer_17397846346598585 = null;\n",
       "var warn = document.getElementById(\"3dmolwarning_17397846346598585\");\n",
       "if(warn) {\n",
       "    warn.parentNode.removeChild(warn);\n",
       "}\n",
       "$3Dmolpromise.then(function() {\n",
       "viewer_17397846346598585 = $3Dmol.createViewer(document.getElementById(\"3dmolviewer_17397846346598585\"),{backgroundColor:\"white\"});\n",
       "$3Dmol.download(\"pdb:3J3Q\", viewer_17397846346598585, {}, function() {\n",
       "viewer_17397846346598585.zoomTo();\n",
       "\tviewer_17397846346598585.setStyle({\"cartoon\": {\"color\": \"spectrum\"}});\n",
       "\tviewer_17397846346598585.zoomTo();\n",
       "viewer_17397846346598585.render();\n",
       "})\n",
       "});\n",
       "</script>"
      ]
     },
     "metadata": {},
     "output_type": "display_data"
    }
   ],
   "source": [
    "# Define the PDB ID for the HIV-1 capsid protein\n",
    "hiv_capsid_pdb_id = '3J3Q'\n",
    "\n",
    "# Create a 3D viewer for the HIV-1 capsid protein\n",
    "hiv_capsid_viewer = py3Dmol.view(query='pdb:' + hiv_capsid_pdb_id, width=800, height=600)\n",
    "hiv_capsid_viewer.setStyle({'cartoon': {'color': 'spectrum'}})\n",
    "hiv_capsid_viewer.zoomTo()\n",
    "hiv_capsid_viewer.show()"
   ]
  },
  {
   "cell_type": "code",
   "execution_count": null,
   "metadata": {},
   "outputs": [],
   "source": []
  }
 ],
 "metadata": {
  "kernelspec": {
   "display_name": "Python 3",
   "language": "python",
   "name": "python3"
  },
  "language_info": {
   "codemirror_mode": {
    "name": "ipython",
    "version": 3
   },
   "file_extension": ".py",
   "mimetype": "text/x-python",
   "name": "python",
   "nbconvert_exporter": "python",
   "pygments_lexer": "ipython3",
   "version": "3.11.8"
  }
 },
 "nbformat": 4,
 "nbformat_minor": 2
}
